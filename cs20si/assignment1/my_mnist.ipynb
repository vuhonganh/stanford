{
 "cells": [
  {
   "cell_type": "code",
   "execution_count": 1,
   "metadata": {
    "collapsed": false
   },
   "outputs": [
    {
     "name": "stdout",
     "output_type": "stream",
     "text": [
      "Successfully downloaded train-images-idx3-ubyte.gz 9912422 bytes.\nExtracting /tmp/mnist/train-images-idx3-ubyte.gz\n"
     ]
    },
    {
     "name": "stdout",
     "output_type": "stream",
     "text": [
      "Successfully downloaded train-labels-idx1-ubyte.gz 28881 bytes.\nExtracting /tmp/mnist/train-labels-idx1-ubyte.gz\n"
     ]
    },
    {
     "name": "stdout",
     "output_type": "stream",
     "text": [
      "Successfully downloaded t10k-images-idx3-ubyte.gz 1648877 bytes.\nExtracting /tmp/mnist/t10k-images-idx3-ubyte.gz\n"
     ]
    },
    {
     "name": "stdout",
     "output_type": "stream",
     "text": [
      "Successfully downloaded t10k-labels-idx1-ubyte.gz 4542 bytes.\nExtracting /tmp/mnist/t10k-labels-idx1-ubyte.gz\n"
     ]
    }
   ],
   "source": [
    "import tensorflow as tf\n",
    "from tensorflow.examples.tutorials.mnist import input_data\n",
    "MNIST = input_data.read_data_sets(\"/tmp/mnist\", one_hot=True)\n",
    "# note that the data contains\n",
    "# MNIST.train: 55,000 examples\n",
    "# MNIST.validation: 5,000 examples\n",
    "# MNIST.test: 10,000 examples"
   ]
  },
  {
   "cell_type": "code",
   "execution_count": 30,
   "metadata": {},
   "outputs": [],
   "source": [
    "# NOTE: each image in MNIST has resolution 28*28 = 784 and each turns to\n",
    "# a vector of 784 dims\n",
    "D = 784  # vec_dim\n",
    "C = 10  # num_classes\n",
    "batch_size = 128\n",
    "num_epochs = 28\n",
    "lr = 0.1\n",
    "H = 1000\n",
    "reg = 1e-5"
   ]
  },
  {
   "cell_type": "code",
   "execution_count": 13,
   "metadata": {},
   "outputs": [],
   "source": [
    "# input - fully connected layer - ReLU - fully connected layer - softmax\n",
    "W1 = tf.Variable(0.01 * tf.random_normal([D, H]), name='weights_1')\n",
    "b1 = tf.Variable(tf.zeros([1, H], name='bias_1'))\n",
    "W2 = tf.Variable(0.01 * tf.random_normal([H, C]), name='weights_2')\n",
    "b2 = tf.Variable(tf.zeros([1, C], name='bias_2'))"
   ]
  },
  {
   "cell_type": "code",
   "execution_count": 6,
   "metadata": {},
   "outputs": [],
   "source": [
    "# input placeholders\n",
    "X = tf.placeholder(tf.float32, [batch_size, D], name='X')\n",
    "Y = tf.placeholder(tf.float32, [batch_size, C], name='Y')"
   ]
  },
  {
   "cell_type": "code",
   "execution_count": 28,
   "metadata": {},
   "outputs": [],
   "source": [
    "logits1 = tf.matmul(X, W1) + b1\n",
    "out1 = tf.nn.relu(logits1, name='out_1')\n",
    "logits2 = tf.matmul(out1, W2) + b2\n",
    "loss_batch = tf.nn.softmax_cross_entropy_with_logits(logits=logits2, labels=Y)\n",
    "loss1 = tf.reduce_mean(loss_batch)\n",
    "\n",
    "loss_reg = reg * (tf.reduce_sum(tf.square(W1)) + tf.reduce_sum(tf.square(W2))) \n",
    "loss = tf.add(loss1, loss_reg, name='loss')\n",
    "summary_loss = tf.summary.scalar('total_loss', loss)\n",
    "optimizer = tf.train.GradientDescentOptimizer(learning_rate=lr).minimize(loss)"
   ]
  },
  {
   "cell_type": "code",
   "execution_count": 31,
   "metadata": {},
   "outputs": [
    {
     "name": "stdout",
     "output_type": "stream",
     "text": [
      "Training...\n"
     ]
    },
    {
     "name": "stdout",
     "output_type": "stream",
     "text": [
      "Epoch 0: loss = 0.6593416791001122\n"
     ]
    },
    {
     "name": "stdout",
     "output_type": "stream",
     "text": [
      "Epoch 1: loss = 0.30306128480217676\n"
     ]
    },
    {
     "name": "stdout",
     "output_type": "stream",
     "text": [
      "Epoch 2: loss = 0.25122062452050636\n"
     ]
    },
    {
     "name": "stdout",
     "output_type": "stream",
     "text": [
      "Epoch 3: loss = 0.21524972751701907\n"
     ]
    },
    {
     "name": "stdout",
     "output_type": "stream",
     "text": [
      "Epoch 4: loss = 0.18050770539712238\n"
     ]
    },
    {
     "name": "stdout",
     "output_type": "stream",
     "text": [
      "Epoch 5: loss = 0.16564600794013842\n"
     ]
    },
    {
     "name": "stdout",
     "output_type": "stream",
     "text": [
      "Epoch 6: loss = 0.1462687685877293\n"
     ]
    },
    {
     "name": "stdout",
     "output_type": "stream",
     "text": [
      "Epoch 7: loss = 0.13021945213521277\n"
     ]
    },
    {
     "name": "stdout",
     "output_type": "stream",
     "text": [
      "Epoch 8: loss = 0.11819775865385027\n"
     ]
    },
    {
     "name": "stdout",
     "output_type": "stream",
     "text": [
      "Epoch 9: loss = 0.10934970206591911\n"
     ]
    },
    {
     "name": "stdout",
     "output_type": "stream",
     "text": [
      "Epoch 10: loss = 0.09981100703643891\n"
     ]
    },
    {
     "name": "stdout",
     "output_type": "stream",
     "text": [
      "Epoch 11: loss = 0.09108542593191693\n"
     ]
    },
    {
     "name": "stdout",
     "output_type": "stream",
     "text": [
      "Epoch 12: loss = 0.08622998312671423\n"
     ]
    },
    {
     "name": "stdout",
     "output_type": "stream",
     "text": [
      "Epoch 13: loss = 0.07895008000460538\n"
     ]
    },
    {
     "name": "stdout",
     "output_type": "stream",
     "text": [
      "Epoch 14: loss = 0.07435228597450923\n"
     ]
    },
    {
     "name": "stdout",
     "output_type": "stream",
     "text": [
      "Epoch 15: loss = 0.06990307759675947\n"
     ]
    },
    {
     "name": "stdout",
     "output_type": "stream",
     "text": [
      "Epoch 16: loss = 0.06585030442663839\n"
     ]
    },
    {
     "name": "stdout",
     "output_type": "stream",
     "text": [
      "Epoch 17: loss = 0.06297572241935419\n"
     ]
    },
    {
     "name": "stdout",
     "output_type": "stream",
     "text": [
      "Epoch 18: loss = 0.05858916726336751\n"
     ]
    },
    {
     "name": "stdout",
     "output_type": "stream",
     "text": [
      "Epoch 19: loss = 0.054214301977158985\n"
     ]
    },
    {
     "name": "stdout",
     "output_type": "stream",
     "text": [
      "Epoch 20: loss = 0.05439390114667046\n"
     ]
    },
    {
     "name": "stdout",
     "output_type": "stream",
     "text": [
      "Epoch 21: loss = 0.050401493592192106\n"
     ]
    },
    {
     "name": "stdout",
     "output_type": "stream",
     "text": [
      "Epoch 22: loss = 0.048016987862564746\n"
     ]
    },
    {
     "name": "stdout",
     "output_type": "stream",
     "text": [
      "Epoch 23: loss = 0.04622455633360467\n"
     ]
    },
    {
     "name": "stdout",
     "output_type": "stream",
     "text": [
      "Epoch 24: loss = 0.043662127858518446\n"
     ]
    },
    {
     "name": "stdout",
     "output_type": "stream",
     "text": [
      "Epoch 25: loss = 0.041640907176498904\n"
     ]
    },
    {
     "name": "stdout",
     "output_type": "stream",
     "text": [
      "Epoch 26: loss = 0.03941749897948303\n"
     ]
    },
    {
     "name": "stdout",
     "output_type": "stream",
     "text": [
      "Epoch 27: loss = 0.04002755907492274\nTesting...\n"
     ]
    },
    {
     "name": "stdout",
     "output_type": "stream",
     "text": [
      "total accuracy on test set = 0.9782\n"
     ]
    }
   ],
   "source": [
    "with tf.Session() as sess:\n",
    "    sess.run(tf.global_variables_initializer())\n",
    "    num_batches = int(MNIST.train.num_examples / batch_size)\n",
    "    writer = tf.summary.FileWriter('./mnist_graphs/', sess.graph)\n",
    "    print(\"Training...\")\n",
    "    for i in range(num_epochs):\n",
    "        cur_loss = 0.0  # current loss for this epoch\n",
    "        for j in range(num_batches):\n",
    "            X_batch, Y_batch = MNIST.train.next_batch(batch_size)  # type of X_batch and Y_batch are numpy.ndarray\n",
    "            _, l, summary = sess.run([optimizer, loss, summary_loss], \n",
    "                                     feed_dict={X: X_batch, Y: Y_batch})\n",
    "            writer.add_summary(summary)\n",
    "            cur_loss += l\n",
    "        cur_loss /= num_batches\n",
    "        print(\"Epoch {0}: loss = {1}\".format(i, cur_loss))\n",
    "    num_batches_test = int(MNIST.test.num_examples / batch_size)\n",
    "    acc = 0.0\n",
    "    print(\"Testing...\")\n",
    "    for i in range(num_batches_test):\n",
    "        X_batch, Y_batch = MNIST.test.next_batch(batch_size)\n",
    "        logits_batch = sess.run(logits2, feed_dict={X: X_batch, Y: Y_batch})\n",
    "        scores = tf.nn.softmax(logits_batch)\n",
    "        pred_labels = tf.argmax(scores, axis=1)  # note that scores has shape (batch_size, num_classes)\n",
    "        correct_labels = tf.argmax(Y_batch, axis=1)  # one hot -> idx of value 1 is also max (the rest = 0)\n",
    "        correct_preds = tf.equal(pred_labels, correct_labels)\n",
    "        acc += tf.reduce_sum(tf.cast(correct_preds, tf.float32)).eval()\n",
    "    print(\"total accuracy on test set = {0}\".format(acc / MNIST.test.num_examples))"
   ]
  }
 ],
 "metadata": {
  "kernelspec": {
   "display_name": "Python 2",
   "language": "python",
   "name": "python2"
  },
  "language_info": {
   "codemirror_mode": {
    "name": "ipython",
    "version": 2.0
   },
   "file_extension": ".py",
   "mimetype": "text/x-python",
   "name": "python",
   "nbconvert_exporter": "python",
   "pygments_lexer": "ipython2",
   "version": "2.7.6"
  }
 },
 "nbformat": 4,
 "nbformat_minor": 0
}